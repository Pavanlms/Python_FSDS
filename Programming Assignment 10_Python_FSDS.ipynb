{
  "nbformat": 4,
  "nbformat_minor": 0,
  "metadata": {
    "colab": {
      "provenance": []
    },
    "kernelspec": {
      "name": "python3",
      "display_name": "Python 3"
    },
    "language_info": {
      "name": "python"
    }
  },
  "cells": [
    {
      "cell_type": "markdown",
      "source": [
        "# 1. Write a Python program to find sum of elements in list?"
      ],
      "metadata": {
        "id": "AVseEQ513ES9"
      }
    },
    {
      "cell_type": "code",
      "execution_count": 27,
      "metadata": {
        "colab": {
          "base_uri": "https://localhost:8080/"
        },
        "id": "0RZvMKmy2_Hk",
        "outputId": "4ec8b9f7-8d33-452a-c5a7-df7e2753d48d"
      },
      "outputs": [
        {
          "output_type": "stream",
          "name": "stdout",
          "text": [
            "Sum of elements in the list: 28\n"
          ]
        }
      ],
      "source": [
        "l = [1,2,3,4,5,6,7]\n",
        "sum = 0\n",
        "for i in l:\n",
        "  sum = sum + i\n",
        "  i+=1\n",
        "print(\"Sum of elements in the list:\",sum)"
      ]
    },
    {
      "cell_type": "markdown",
      "source": [
        "# 2. Write a Python program to Multiply all numbers in the list?"
      ],
      "metadata": {
        "id": "pFMmP-563lYd"
      }
    },
    {
      "cell_type": "code",
      "source": [
        "l = [1,2,3,4,5,6,7]\n",
        "mul = 1\n",
        "for i in l:\n",
        "  mul = mul * i\n",
        "  i+=1\n",
        "print(\"Multiplication of all numbers in the list:\",mul)"
      ],
      "metadata": {
        "colab": {
          "base_uri": "https://localhost:8080/"
        },
        "id": "Kw57t3CF3XhL",
        "outputId": "23060cfe-5cd0-4f32-e497-ca462ba6a6ee"
      },
      "execution_count": 3,
      "outputs": [
        {
          "output_type": "stream",
          "name": "stdout",
          "text": [
            "Multiplication of all numbers in the list: 5040\n"
          ]
        }
      ]
    },
    {
      "cell_type": "markdown",
      "source": [
        "# 3. Write a Python program to find smallest number in a list?"
      ],
      "metadata": {
        "id": "cj2Kn9H24FdM"
      }
    },
    {
      "cell_type": "code",
      "source": [
        "l = [2,5,1,4,6,3,7]\n",
        "l.sort()\n",
        "print(\"Smallest number in the list:\",l[0])"
      ],
      "metadata": {
        "colab": {
          "base_uri": "https://localhost:8080/"
        },
        "id": "ELW-1tck37ah",
        "outputId": "d60c91b9-feb2-4edd-eea7-89cbedee0221"
      },
      "execution_count": 8,
      "outputs": [
        {
          "output_type": "stream",
          "name": "stdout",
          "text": [
            "Smallest number in the list: 1\n"
          ]
        }
      ]
    },
    {
      "cell_type": "markdown",
      "source": [
        "# 4. Write a Python program to find largest number in a list?"
      ],
      "metadata": {
        "id": "kQgTZevJ6aih"
      }
    },
    {
      "cell_type": "code",
      "source": [
        "l = [2,5,1,4,6,3,7]\n",
        "l.sort()\n",
        "print(\"Largest number in the list:\",l[len(l)-1])"
      ],
      "metadata": {
        "colab": {
          "base_uri": "https://localhost:8080/"
        },
        "id": "Ul8OslWO5nDH",
        "outputId": "db2d32f0-6b00-4c64-c331-56c7c9042855"
      },
      "execution_count": 10,
      "outputs": [
        {
          "output_type": "stream",
          "name": "stdout",
          "text": [
            "Largest number in the list: 7\n"
          ]
        }
      ]
    },
    {
      "cell_type": "markdown",
      "source": [
        "# 5. Write a Python program to find second largest number in a list?"
      ],
      "metadata": {
        "id": "KJ1l_azc6rM3"
      }
    },
    {
      "cell_type": "code",
      "source": [
        "l = [2,5,1,4,6,3,7]\n",
        "l.sort()\n",
        "print(\"Second largest number in the list:\",l[1])"
      ],
      "metadata": {
        "colab": {
          "base_uri": "https://localhost:8080/"
        },
        "id": "LCSRFEHI6hPW",
        "outputId": "c5cef086-9bd0-4e6a-8ee0-a495688a6a04"
      },
      "execution_count": 12,
      "outputs": [
        {
          "output_type": "stream",
          "name": "stdout",
          "text": [
            "Second largest number in the list: 2\n"
          ]
        }
      ]
    },
    {
      "cell_type": "markdown",
      "source": [
        "# 6. Write a Python program to find N largest elements from a list?"
      ],
      "metadata": {
        "id": "FytQcvH37tJA"
      }
    },
    {
      "cell_type": "code",
      "source": [
        "l = [1,2,3,4,5,6,7]\n",
        "N = int(input(\"Enter N Value:\"))\n",
        "l.sort()\n",
        "print(\"N Largest Elements in the list\", l[-N:])"
      ],
      "metadata": {
        "colab": {
          "base_uri": "https://localhost:8080/"
        },
        "id": "LlWdbx-X60JO",
        "outputId": "368a3967-5574-4659-fcdb-df1a95bb71b9"
      },
      "execution_count": 16,
      "outputs": [
        {
          "output_type": "stream",
          "name": "stdout",
          "text": [
            "Enter N Value:7\n",
            "N Largest Elements in the list [1, 2, 3, 4, 5, 6, 7]\n"
          ]
        }
      ]
    },
    {
      "cell_type": "markdown",
      "source": [
        "# 7. Write a Python program to print even numbers in a list?"
      ],
      "metadata": {
        "id": "jEb5Lg_K8j-u"
      }
    },
    {
      "cell_type": "code",
      "source": [
        "l = [1,2,3,4,5,6,7]\n",
        "l_even = []\n",
        "for i in l:\n",
        "  if i%2 == 0:\n",
        "    l_even.append(i)\n",
        "print(\"Even numbers in the list\",l_even)\n"
      ],
      "metadata": {
        "colab": {
          "base_uri": "https://localhost:8080/"
        },
        "id": "GhR8gu-J8OQk",
        "outputId": "0d824349-4d7f-4585-ceeb-f06149977cc5"
      },
      "execution_count": 17,
      "outputs": [
        {
          "output_type": "stream",
          "name": "stdout",
          "text": [
            "Even numbers in the list [2, 4, 6]\n"
          ]
        }
      ]
    },
    {
      "cell_type": "markdown",
      "source": [
        "# 8. Write a Python program to print odd numbers in a List?"
      ],
      "metadata": {
        "id": "3vgw5Q6I9CDn"
      }
    },
    {
      "cell_type": "code",
      "source": [
        "l = [1,2,3,4,5,6,7]\n",
        "l_odd = []\n",
        "for i in l:\n",
        "  if i%2 != 0:\n",
        "    l_odd.append(i)\n",
        "print(\"Odd numbers in the list\",l_odd)"
      ],
      "metadata": {
        "colab": {
          "base_uri": "https://localhost:8080/"
        },
        "id": "Yb9LAy7V88Oz",
        "outputId": "c88b680d-e0b2-4e3b-dd71-50a70249ee7c"
      },
      "execution_count": 18,
      "outputs": [
        {
          "output_type": "stream",
          "name": "stdout",
          "text": [
            "Odd numbers in the list [1, 3, 5, 7]\n"
          ]
        }
      ]
    },
    {
      "cell_type": "markdown",
      "source": [
        "# 9. Write a Python program to Remove empty List from List?"
      ],
      "metadata": {
        "id": "yDFr2DE4_B7z"
      }
    },
    {
      "cell_type": "code",
      "source": [
        "l = [1,2,3,4,5,8,[],5,9,\"pavan\"]\n",
        "for i in l:\n",
        "  if i == []:\n",
        "    l.pop(l.index(i))\n",
        "print(\"List after removing the empty list\",l)"
      ],
      "metadata": {
        "colab": {
          "base_uri": "https://localhost:8080/"
        },
        "id": "iuklwy7Z-67q",
        "outputId": "b6586cfa-503d-4419-99a9-043ed27fc36a"
      },
      "execution_count": 20,
      "outputs": [
        {
          "output_type": "stream",
          "name": "stdout",
          "text": [
            "List after removing the empty list [1, 2, 3, 4, 5, 8, 5, 9, 'pavan']\n"
          ]
        }
      ]
    },
    {
      "cell_type": "markdown",
      "source": [
        "# 10. Write a Python program to Cloning or Copying a list?"
      ],
      "metadata": {
        "id": "NKOlzVgl_0_M"
      }
    },
    {
      "cell_type": "code",
      "source": [
        "l = [\"pavan\",2,4,5,6,9.3,\"kumar\"]\n",
        "l_copy= []\n",
        "l_copy.extend(l)\n",
        "print(\"After cloning the l to l_copy\",l_copy)"
      ],
      "metadata": {
        "colab": {
          "base_uri": "https://localhost:8080/"
        },
        "id": "Xqhvor9W_epC",
        "outputId": "44bdf983-3e5a-4655-d20f-8cdde221cdb5"
      },
      "execution_count": 22,
      "outputs": [
        {
          "output_type": "stream",
          "name": "stdout",
          "text": [
            "After cloning the l to l_copy ['pavan', 2, 4, 5, 6, 9.3, 'kumar']\n"
          ]
        }
      ]
    },
    {
      "cell_type": "markdown",
      "source": [
        "# 11. Write a Python program to Count occurrences of an element in a list?"
      ],
      "metadata": {
        "id": "Yzc7njqFA2Ty"
      }
    },
    {
      "cell_type": "code",
      "source": [
        "def countp(lst, x):\n",
        "    count = 0\n",
        "    for ele in lst:\n",
        "        if (ele == x):\n",
        "            count = count + 1\n",
        "    return count"
      ],
      "metadata": {
        "id": "iokDKi8xAfMo"
      },
      "execution_count": 23,
      "outputs": []
    },
    {
      "cell_type": "code",
      "source": [
        "lst = [1,2,2,2,4,5,8,8,8,8,6,4,6,9,8,9,4,5]\n",
        "x = 5\n",
        "print(\"{} has occured {} times \".format(x,countp(lst,x)))"
      ],
      "metadata": {
        "colab": {
          "base_uri": "https://localhost:8080/"
        },
        "id": "lAovWpgaBblf",
        "outputId": "c400d01a-6acf-4dcc-f7e7-3da28954004e"
      },
      "execution_count": 24,
      "outputs": [
        {
          "output_type": "stream",
          "name": "stdout",
          "text": [
            "5 has occured 2 times \n"
          ]
        }
      ]
    },
    {
      "cell_type": "code",
      "source": [],
      "metadata": {
        "id": "S8xn9dsWB0WH"
      },
      "execution_count": null,
      "outputs": []
    }
  ]
}