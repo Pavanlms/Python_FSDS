{
 "cells": [
  {
   "cell_type": "markdown",
   "metadata": {},
   "source": [
    "# 1. Write a Python program to find LCM?"
   ]
  },
  {
   "cell_type": "code",
   "execution_count": 5,
   "metadata": {},
   "outputs": [
    {
     "name": "stdout",
     "output_type": "stream",
     "text": [
      "Enter 1st number:25\n",
      "Enter 2nd number:50\n",
      "lcm of two numbers is: 50\n"
     ]
    }
   ],
   "source": [
    "x = int(input('Enter 1st number:'))\n",
    "y = int(input('Enter 2nd number:'))\n",
    "if (x>y):\n",
    "    greater = x\n",
    "else:\n",
    "    greater = y\n",
    "for i in range(greater,0,-1):\n",
    "    if (i % x) == 0 and (i % y) == 0:\n",
    "        lcm = i\n",
    "print('lcm of two numbers is:',lcm)"
   ]
  },
  {
   "cell_type": "markdown",
   "metadata": {},
   "source": [
    "# 2. Write a Python program to find HCF?"
   ]
  },
  {
   "cell_type": "code",
   "execution_count": 6,
   "metadata": {},
   "outputs": [
    {
     "name": "stdout",
     "output_type": "stream",
     "text": [
      "Enter 1st number:25\n",
      "Enter 2nd number:50\n",
      "HCF of two numbers is: 25\n"
     ]
    }
   ],
   "source": [
    "x = int(input('Enter 1st number:'))\n",
    "y = int(input('Enter 2nd number:'))\n",
    "if (x>y):\n",
    "    small = y\n",
    "else:\n",
    "    small = x\n",
    "for i in range(1,small+1):\n",
    "    if (x % i) == 0 and (y % i) == 0:\n",
    "        HCF = i\n",
    "print('HCF of two numbers is:',HCF)"
   ]
  },
  {
   "cell_type": "markdown",
   "metadata": {},
   "source": [
    "# 3. Write a Python program to convert Decimal to Binary, Octal and Hexadecimal ?"
   ]
  },
  {
   "cell_type": "code",
   "execution_count": 16,
   "metadata": {},
   "outputs": [
    {
     "name": "stdout",
     "output_type": "stream",
     "text": [
      "Enter decimal number:7\n",
      "7 to binary is: 0b111\n",
      "7 to Octal is: 0o7\n",
      "7 to Hexadecimal is: 0x7\n"
     ]
    }
   ],
   "source": [
    "decimal = int(input('Enter decimal number:'))\n",
    "print(decimal, 'to binary is:',bin(decimal))\n",
    "print(decimal, 'to Octal is:', oct(decimal))\n",
    "print(decimal, 'to Hexadecimal is:',hex(decimal))"
   ]
  },
  {
   "cell_type": "markdown",
   "metadata": {},
   "source": [
    "# 4. Write a Python program to find ASCII value of a character ?"
   ]
  },
  {
   "cell_type": "code",
   "execution_count": 15,
   "metadata": {},
   "outputs": [
    {
     "name": "stdout",
     "output_type": "stream",
     "text": [
      "g\n",
      "The ASCII value of g is: 103\n"
     ]
    }
   ],
   "source": [
    "s = input()\n",
    "print('The ASCII value of', s , 'is:',ord(s))"
   ]
  },
  {
   "cell_type": "markdown",
   "metadata": {},
   "source": [
    "# 5. Write a Python program to make a Simple Calculator with 4 basic mathematical operations ?"
   ]
  },
  {
   "cell_type": "code",
   "execution_count": 17,
   "metadata": {},
   "outputs": [
    {
     "name": "stdout",
     "output_type": "stream",
     "text": [
      "10\n",
      "2\n",
      "Addition of two numbers is: 12\n",
      "Subtraction of two numbers is: 8\n",
      "Multiplication of two numbers is: 20\n",
      "Division of two numbers is: 5.0\n"
     ]
    }
   ],
   "source": [
    "a = int(input())\n",
    "b = int(input())\n",
    "print(\"Addition of two numbers is:\", a+b)\n",
    "print(\"Subtraction of two numbers is:\",a-b)\n",
    "print(\"Multiplication of two numbers is:\",a*b)\n",
    "print(\"Division of two numbers is:\",a/b)"
   ]
  }
 ],
 "metadata": {
  "kernelspec": {
   "display_name": "Python 3",
   "language": "python",
   "name": "python3"
  },
  "language_info": {
   "codemirror_mode": {
    "name": "ipython",
    "version": 3
   },
   "file_extension": ".py",
   "mimetype": "text/x-python",
   "name": "python",
   "nbconvert_exporter": "python",
   "pygments_lexer": "ipython3",
   "version": "3.7.6"
  }
 },
 "nbformat": 4,
 "nbformat_minor": 4
}
