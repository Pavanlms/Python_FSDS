{
  "nbformat": 4,
  "nbformat_minor": 0,
  "metadata": {
    "colab": {
      "provenance": []
    },
    "kernelspec": {
      "name": "python3",
      "display_name": "Python 3"
    },
    "language_info": {
      "name": "python"
    }
  },
  "cells": [
    {
      "cell_type": "markdown",
      "source": [
        "# Q1. What is the purpose of Python's OOP?"
      ],
      "metadata": {
        "id": "9xz_5fRyOvkh"
      }
    },
    {
      "cell_type": "markdown",
      "source": [
        "Ans: In Python, Object Oriented Programming(OOPs) is a programming paradigm that uses object and classes in the program. It aims to implement the real world entities like Inheritance, Polymorphism, Encapsulaton..etc.              \n",
        "The Main concept of OOPs is to bind the data and functions that work on that together as a single unit so that no other part of the code can access the data."
      ],
      "metadata": {
        "id": "aGzK8jASO1z2"
      }
    },
    {
      "cell_type": "markdown",
      "source": [
        "# Q2. Where does an inheritance search look for an attribute?"
      ],
      "metadata": {
        "id": "0YoSqi21PynF"
      }
    },
    {
      "cell_type": "markdown",
      "source": [
        "Ans: An inheritance search looks for an attribute first in the instance object, then in the class the instance was created from, then in all higher superclasses, progressing from left to right (by default). The search stops at the first place the attribute is found."
      ],
      "metadata": {
        "id": "7j6pEFX0QaAO"
      }
    },
    {
      "cell_type": "markdown",
      "source": [
        "# Q3. How do you distinguish between a class object and an instance object?"
      ],
      "metadata": {
        "id": "vDd8m8F2SkTD"
      }
    },
    {
      "cell_type": "markdown",
      "source": [
        "Ans: The differences between a class object and an instance object are:\n",
        "\n",
        "1. Class is a template for creating objects whereas object is an instance of class\n",
        "2. Seperate memory is allocated for each object whenever an object is created. but for a class this doesnot happens.\n",
        "3. A Class is created once. Many objects are created using a class.\n",
        "4. As Classes have no allocated memory. they can't be manipulated. but objects can be manipulated."
      ],
      "metadata": {
        "id": "bfiZfl-LSoBL"
      }
    },
    {
      "cell_type": "markdown",
      "source": [
        "# Q4. What makes the first argument in a class’s method function special?"
      ],
      "metadata": {
        "id": "vEZoPlh9SzLi"
      }
    },
    {
      "cell_type": "markdown",
      "source": [
        "Ans: Python Classes usually have three types of methods which are:\n",
        "\n",
        "1. Instance Methods (object level methods)\n",
        "2. Class Methods (class level methods)\n",
        "3. Static Methods (general utility methods)\n",
        "* self is the first argument for instance methods. which refers to the object itself\n",
        "* cls is the first argument for class methods which refers to the class itself"
      ],
      "metadata": {
        "id": "OjTOHFBKTAni"
      }
    },
    {
      "cell_type": "markdown",
      "source": [
        "# Q5. What is the purpose of the __init__ method?"
      ],
      "metadata": {
        "id": "JY6rl2u5TP3z"
      }
    },
    {
      "cell_type": "markdown",
      "source": [
        " Ans: __init__ is a reseved method in python classes. It serves the role of a constructor in object oriented terminology. This method is called when an object is created from a class and it allows the class to initialize the attributes of the class"
      ],
      "metadata": {
        "id": "aX4xW8ugTZd5"
      }
    },
    {
      "cell_type": "markdown",
      "source": [
        "# Q6. What is the process for creating a class instance?"
      ],
      "metadata": {
        "id": "rrPYegQNT4qX"
      }
    },
    {
      "cell_type": "markdown",
      "source": [
        "Ans: To create a class instance, we need to call the class by its name and pass the arguments to the class, which its init method accepts.\n",
        "\n",
        "Example: name = class(\"Pavan\",\"kumar\") Here name is an instance of class with attributes \"Pavan\" and \"kumar\"."
      ],
      "metadata": {
        "id": "MI5-HScPUI5w"
      }
    },
    {
      "cell_type": "markdown",
      "source": [
        "# Q7. What is the process for creating a class?"
      ],
      "metadata": {
        "id": "aR3FANnBUedK"
      }
    },
    {
      "cell_type": "markdown",
      "source": [
        "Ans: class keyword is used to create a class in python. The syntax to create a class in python is class <classname>:\n",
        "\n",
        "Example: class Car: ➞ this creates a class called Car"
      ],
      "metadata": {
        "id": "zQOl4BH4UnoP"
      }
    },
    {
      "cell_type": "markdown",
      "source": [
        "# Q8. How would you define the superclasses of a class?"
      ],
      "metadata": {
        "id": "bTyEQxCXUtRW"
      }
    },
    {
      "cell_type": "markdown",
      "source": [
        "Ans: Superclass/Parent class is given as a arugment to the child class\n",
        "\n",
        "Example: class gear(car): Here child class gear inherits attributes and methods from Superclass/Parent car."
      ],
      "metadata": {
        "id": "VEf2Vc3SU3Jn"
      }
    },
    {
      "cell_type": "code",
      "source": [],
      "metadata": {
        "id": "kmXaKkyCOwxr"
      },
      "execution_count": null,
      "outputs": []
    }
  ]
}