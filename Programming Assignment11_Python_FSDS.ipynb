{
 "cells": [
  {
   "cell_type": "markdown",
   "id": "21873509",
   "metadata": {},
   "source": [
    "# 1. Write a Python program to find words which are greater than given length k?"
   ]
  },
  {
   "cell_type": "code",
   "execution_count": 1,
   "id": "6943ce0f",
   "metadata": {},
   "outputs": [
    {
     "name": "stdout",
     "output_type": "stream",
     "text": [
      "Enter your String:hi pavan how are you doing\n",
      "Enter the length3\n",
      "['pavan', 'doing']\n"
     ]
    }
   ],
   "source": [
    "s = input(\"Enter your String:\")\n",
    "l = int(input(\"Enter the length\"))\n",
    "print([i for i in s.split(\" \") if len(i) > l])"
   ]
  },
  {
   "cell_type": "markdown",
   "id": "66838dcd",
   "metadata": {},
   "source": [
    "# 2. Write a Python program for removing i-th character from a string?"
   ]
  },
  {
   "cell_type": "code",
   "execution_count": 2,
   "id": "d96a6bf0",
   "metadata": {},
   "outputs": [],
   "source": [
    "def remove(i,s):\n",
    "    a = s[ :i]\n",
    "    b = s[i+1:]\n",
    "    return a + b"
   ]
  },
  {
   "cell_type": "code",
   "execution_count": 3,
   "id": "665b4185",
   "metadata": {},
   "outputs": [
    {
     "data": {
      "text/plain": [
       "'pavn'"
      ]
     },
     "execution_count": 3,
     "metadata": {},
     "output_type": "execute_result"
    }
   ],
   "source": [
    "remove(3,\"pavan\")"
   ]
  },
  {
   "cell_type": "markdown",
   "id": "a291b425",
   "metadata": {},
   "source": [
    "# 3. Write a Python program to split and join a string?"
   ]
  },
  {
   "cell_type": "code",
   "execution_count": 7,
   "id": "6c338231",
   "metadata": {},
   "outputs": [
    {
     "name": "stdout",
     "output_type": "stream",
     "text": [
      "Enter your string:hello shreyas you are high\n",
      "['hello', 'shreyas', 'you', 'are', 'high']\n",
      "hello-shreyas-you-are-high\n"
     ]
    }
   ],
   "source": [
    "string = input(\"Enter your string:\")\n",
    "s1 = string.split(\" \")\n",
    "j = \"-\".join(s1)\n",
    "print(s1)\n",
    "print(j)"
   ]
  },
  {
   "cell_type": "markdown",
   "id": "7e3a321a",
   "metadata": {},
   "source": [
    "# 4. Write a Python to check if a given string is binary string or not?"
   ]
  },
  {
   "cell_type": "code",
   "execution_count": 8,
   "id": "f4931252",
   "metadata": {},
   "outputs": [],
   "source": [
    "def bin(s2):\n",
    "    b = set(s2)\n",
    "    s = {\"0\", \"1\"}\n",
    "    if b == s or b == {'0'} or b == {\"1\"}:\n",
    "        print(\"Binary String\")\n",
    "    else:\n",
    "        print(\"Not a binary string\")"
   ]
  },
  {
   "cell_type": "code",
   "execution_count": 12,
   "id": "01ba9ffd",
   "metadata": {},
   "outputs": [
    {
     "name": "stdout",
     "output_type": "stream",
     "text": [
      "Binary String\n"
     ]
    }
   ],
   "source": [
    "bin(\"01000100011\")"
   ]
  },
  {
   "cell_type": "markdown",
   "id": "a4188a80",
   "metadata": {},
   "source": [
    "# 5. Write a Python program to find uncommon words from two Strings?"
   ]
  },
  {
   "cell_type": "code",
   "execution_count": 13,
   "id": "472f2454",
   "metadata": {},
   "outputs": [],
   "source": [
    "def uncommon(s1,s2):\n",
    "    s1 = s1.split(\" \")\n",
    "    s2 = s2.split(\" \")\n",
    "    c = set(s1).symmetric_difference(set(s2))\n",
    "    return c"
   ]
  },
  {
   "cell_type": "code",
   "execution_count": 14,
   "id": "07a07271",
   "metadata": {},
   "outputs": [
    {
     "data": {
      "text/plain": [
       "{'dudes', 'friends'}"
      ]
     },
     "execution_count": 14,
     "metadata": {},
     "output_type": "execute_result"
    }
   ],
   "source": [
    "uncommon(\"hello friends\", \"hello dudes\")"
   ]
  },
  {
   "cell_type": "markdown",
   "id": "381b70da",
   "metadata": {},
   "source": [
    "# 6. Write a Python to find all duplicate characters in string?"
   ]
  },
  {
   "cell_type": "code",
   "execution_count": 20,
   "id": "861c6c58",
   "metadata": {},
   "outputs": [],
   "source": [
    "def find_dup_char(input):\n",
    "    x=[]\n",
    "    for i in input:\n",
    "        if i not in x and input.count(i)>1:\n",
    "            x.append(i)\n",
    "    print(\"\".join(x))"
   ]
  },
  {
   "cell_type": "code",
   "execution_count": 21,
   "id": "bc7bda7a",
   "metadata": {},
   "outputs": [
    {
     "name": "stdout",
     "output_type": "stream",
     "text": [
      "hel pa\n"
     ]
    }
   ],
   "source": [
    "find_dup_char(\"hello pavan be happy\")"
   ]
  },
  {
   "cell_type": "markdown",
   "id": "f0645be1",
   "metadata": {},
   "source": [
    "# 7. Write a Python Program to check if a string contains any special character?"
   ]
  },
  {
   "cell_type": "code",
   "execution_count": 13,
   "id": "37223dbe",
   "metadata": {},
   "outputs": [],
   "source": [
    "import re\n",
    "\n",
    "def check_string(my_string):\n",
    "    regex = re.compile('[@_!#$%^&*()<>?/\\|}{~:]')\n",
    "    if(regex.search(my_string) == None):\n",
    "              print(\"String does not contain any special character.\")\n",
    "    else:\n",
    "              print(\"String contains special characters.\")"
   ]
  },
  {
   "cell_type": "code",
   "execution_count": 16,
   "id": "7f0b86f4",
   "metadata": {},
   "outputs": [
    {
     "name": "stdout",
     "output_type": "stream",
     "text": [
      "String contains special characters.\n"
     ]
    }
   ],
   "source": [
    "check_string(\"sdfksdhfgkn#kjf\")"
   ]
  }
 ],
 "metadata": {
  "kernelspec": {
   "display_name": "Python 3 (ipykernel)",
   "language": "python",
   "name": "python3"
  },
  "language_info": {
   "codemirror_mode": {
    "name": "ipython",
    "version": 3
   },
   "file_extension": ".py",
   "mimetype": "text/x-python",
   "name": "python",
   "nbconvert_exporter": "python",
   "pygments_lexer": "ipython3",
   "version": "3.9.12"
  }
 },
 "nbformat": 4,
 "nbformat_minor": 5
}
